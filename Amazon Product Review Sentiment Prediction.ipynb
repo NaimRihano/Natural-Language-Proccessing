{
 "cells": [
  {
   "cell_type": "markdown",
   "id": "2f4ed47c",
   "metadata": {},
   "source": [
    "# Amazon Product Review Sentiment Prediction \n"
   ]
  },
  {
   "cell_type": "code",
   "execution_count": 1,
   "id": "c14aa557",
   "metadata": {},
   "outputs": [],
   "source": [
    "#Basic libraries\n",
    "import pandas as pd #Python library used for working with data sets.\n",
    "                    #It has functions for analyzing, cleaning, exploring, and manipulating data\n",
    "import numpy as np #NumPy is a Python library used for working with arrays.\n",
    "\n",
    "#NLTK libraries\n",
    "import nltk #Natural Language Toolkit, is a Python package that you can use for NLP.\n",
    "import re #\"re\" module provides regular expression support\n",
    "import string  #for string manipulation\n",
    "from wordcloud import WordCloud,STOPWORDS #is a visual representation of text data\n",
    "from nltk.stem.porter import PorterStemmer #Stemming\n",
    "from sklearn.feature_extraction.text import TfidfVectorizer #converts a collection of raw documents into\n",
    "                                                            #a matrix of TF-IDF features\n",
    "\n",
    "# Machine Learning libraries\n",
    "import sklearn #for machine learning and statistical modeling including classification, regression, clustering\n",
    "from sklearn.svm import SVC #SVC, or Support Vector Classifier,\n",
    "                            #is a supervised machine learning algorithm typically used for classification tasks.\n",
    "from sklearn.preprocessing import LabelEncoder # Encode target labels\n",
    "from sklearn.preprocessing import StandardScaler #to standardize the data values into a standard format\n",
    "from sklearn.preprocessing import MinMaxScaler #scales the minimum and maximum values to be 0 and 1 respectively\n",
    "from sklearn.ensemble import ExtraTreesClassifier #an ensemble supervised machine learning method that uses decision trees\n",
    "from sklearn.pipeline import make_pipeline # for constructing pipelines\n",
    "from sklearn.model_selection import GridSearchCV # a technique for finding the optimal parameter values\n",
    "                                                 #from a given set of parameters in a grid.\n",
    "from sklearn.linear_model import LogisticRegression #a classification algorithm\n",
    "from sklearn.tree import DecisionTreeClassifier #a classification algorithm\n",
    "from sklearn.ensemble import RandomForestClassifier #a classification algorithm\n",
    "from sklearn.naive_bayes import BernoulliNB #a classification algorithm\n",
    "from sklearn.neighbors import KNeighborsClassifier #a classification algorithm\n",
    "from sklearn.multiclass import OneVsRestClassifier #a classification algorithm\n",
    "from sklearn.svm import SVC\n",
    "from sklearn.pipeline import Pipeline #Pipeline are a sequence of data processing mechanisms.\n",
    "from sklearn.model_selection import train_test_split #splits arrays or matrices into random subsets for train and test data\n",
    "from sklearn.preprocessing import label_binarize #converts input labels into binary labels\n",
    "from sklearn import svm, datasets\n",
    "from sklearn import preprocessing \n",
    "\n",
    "\n",
    "#Metrics libraries\n",
    "from sklearn import metrics #a python library used to collect useful run-time application's metrics\n",
    "from sklearn.metrics import classification_report # It is a performance evaluation metric in machine learning\n",
    "                                                  #which is used to show the precision\n",
    "from sklearn.model_selection import cross_val_score #test whether the model can generalise over the whole dataset.\n",
    "from sklearn.metrics import roc_auc_score #the area under the ROC curve\n",
    "from sklearn.metrics import roc_curve, auc\n",
    "\n",
    "#Visualization libraries\n",
    "import matplotlib.pyplot as plt #a plotting library used for 2D graphics \n",
    "from matplotlib import rcParams #default styles for every plot element you create\n",
    "import seaborn as sns #data visualization library based on matplotlib\n",
    "from textblob import TextBlob #a Python (2 and 3) library for processing textual data.\n",
    "from plotly import tools #interactive data visualization\n",
    "import plotly.graph_objs as go #contains an automatically-generated hierarchy of Python\n",
    "from plotly.offline import iplot #iplot is interactive plot.\n",
    "%matplotlib inline \n",
    "\n",
    "#Ignore warnings\n",
    "import warnings #terminates immediately if an error occurs\n",
    "warnings.filterwarnings('ignore')\n",
    "\n",
    "#Other miscellaneous libraries\n",
    "from scipy import interp # a technique of constructing data points between given data points\n",
    "from itertools import cycle # returns an infinite iterator over the values\n",
    "import cufflinks as cf #connects plotly with pandas so that we can create charts directly on data frames.\n",
    "from collections import defaultdict #a subdivision of the dict class\n",
    "from collections import Counter # a dict subclass for counting hashable objects\n",
    "from imblearn.over_sampling import SMOTE #dealing with imbalanced data in classification problems"
   ]
  },
  {
   "cell_type": "markdown",
   "id": "a0009f32",
   "metadata": {},
   "source": [
    "# Importing the dataset"
   ]
  },
  {
   "cell_type": "code",
   "execution_count": 2,
   "id": "37f99f06",
   "metadata": {},
   "outputs": [
    {
     "name": "stdout",
     "output_type": "stream",
     "text": [
      "The shape of the  data is (row, column):(10261, 9)\n",
      "<class 'pandas.core.frame.DataFrame'>\n",
      "RangeIndex: 10261 entries, 0 to 10260\n",
      "Data columns (total 9 columns):\n",
      " #   Column          Non-Null Count  Dtype  \n",
      "---  ------          --------------  -----  \n",
      " 0   reviewerID      10261 non-null  object \n",
      " 1   asin            10261 non-null  object \n",
      " 2   reviewerName    10234 non-null  object \n",
      " 3   helpful         10261 non-null  object \n",
      " 4   reviewText      10254 non-null  object \n",
      " 5   overall         10261 non-null  float64\n",
      " 6   summary         10261 non-null  object \n",
      " 7   unixReviewTime  10261 non-null  int64  \n",
      " 8   reviewTime      10261 non-null  object \n",
      "dtypes: float64(1), int64(1), object(7)\n",
      "memory usage: 721.6+ KB\n",
      "None\n"
     ]
    }
   ],
   "source": [
    "raw_reviews = pd.read_csv('Data.csv')\n",
    "## print shape of dataset with rows and columns and information \n",
    "print (\"The shape of the  data is (row, column):\"+ str(raw_reviews.shape))\n",
    "print (raw_reviews.info())"
   ]
  },
  {
   "cell_type": "markdown",
   "id": "9930eb94",
   "metadata": {},
   "source": [
    "# Handling NaN values\n",
    "Let's check for null values"
   ]
  },
  {
   "cell_type": "code",
   "execution_count": 3,
   "id": "859ac377",
   "metadata": {},
   "outputs": [
    {
     "data": {
      "text/plain": [
       "reviewerID         0\n",
       "asin               0\n",
       "reviewerName      27\n",
       "helpful            0\n",
       "reviewText         7\n",
       "overall            0\n",
       "summary            0\n",
       "unixReviewTime     0\n",
       "reviewTime         0\n",
       "dtype: int64"
      ]
     },
     "execution_count": 3,
     "metadata": {},
     "output_type": "execute_result"
    }
   ],
   "source": [
    "#Creating a copy\n",
    "process_reviews=raw_reviews.copy()\n",
    "\n",
    "#Checking for null values\n",
    "process_reviews.isnull().sum()"
   ]
  },
  {
   "cell_type": "markdown",
   "id": "9dee0c30",
   "metadata": {},
   "source": [
    "We got null values in reviewer names and review text. Reviewer names doesn't add any value(we got id's instead) to our objective of the project. So let's focus on review text. I don't think dropping wouldn't be a problem as there are only 7 null values.\n"
   ]
  },
  {
   "cell_type": "code",
   "execution_count": 4,
   "id": "d84dd801",
   "metadata": {},
   "outputs": [],
   "source": [
    "process_reviews['reviewText']=process_reviews['reviewText'].fillna('Missing')"
   ]
  },
  {
   "cell_type": "markdown",
   "id": "b84eee28",
   "metadata": {},
   "source": [
    "Concatenating review text and summary\n",
    "Let's combine review text and summary column. The sentiments won't be contradicting in nature"
   ]
  },
  {
   "cell_type": "code",
   "execution_count": 5,
   "id": "558b5973",
   "metadata": {},
   "outputs": [
    {
     "data": {
      "text/html": [
       "<div>\n",
       "<style scoped>\n",
       "    .dataframe tbody tr th:only-of-type {\n",
       "        vertical-align: middle;\n",
       "    }\n",
       "\n",
       "    .dataframe tbody tr th {\n",
       "        vertical-align: top;\n",
       "    }\n",
       "\n",
       "    .dataframe thead th {\n",
       "        text-align: right;\n",
       "    }\n",
       "</style>\n",
       "<table border=\"1\" class=\"dataframe\">\n",
       "  <thead>\n",
       "    <tr style=\"text-align: right;\">\n",
       "      <th></th>\n",
       "      <th>reviewerID</th>\n",
       "      <th>asin</th>\n",
       "      <th>reviewerName</th>\n",
       "      <th>helpful</th>\n",
       "      <th>overall</th>\n",
       "      <th>unixReviewTime</th>\n",
       "      <th>reviewTime</th>\n",
       "      <th>reviews</th>\n",
       "    </tr>\n",
       "  </thead>\n",
       "  <tbody>\n",
       "    <tr>\n",
       "      <th>0</th>\n",
       "      <td>A2IBPI20UZIR0U</td>\n",
       "      <td>1384719342</td>\n",
       "      <td>cassandra tu \"Yeah, well, that's just like, u...</td>\n",
       "      <td>[0, 0]</td>\n",
       "      <td>5.0</td>\n",
       "      <td>1393545600</td>\n",
       "      <td>02 28, 2014</td>\n",
       "      <td>Not much to write about here, but it does exac...</td>\n",
       "    </tr>\n",
       "    <tr>\n",
       "      <th>1</th>\n",
       "      <td>A14VAT5EAX3D9S</td>\n",
       "      <td>1384719342</td>\n",
       "      <td>Jake</td>\n",
       "      <td>[13, 14]</td>\n",
       "      <td>5.0</td>\n",
       "      <td>1363392000</td>\n",
       "      <td>03 16, 2013</td>\n",
       "      <td>The product does exactly as it should and is q...</td>\n",
       "    </tr>\n",
       "    <tr>\n",
       "      <th>2</th>\n",
       "      <td>A195EZSQDW3E21</td>\n",
       "      <td>1384719342</td>\n",
       "      <td>Rick Bennette \"Rick Bennette\"</td>\n",
       "      <td>[1, 1]</td>\n",
       "      <td>5.0</td>\n",
       "      <td>1377648000</td>\n",
       "      <td>08 28, 2013</td>\n",
       "      <td>The primary job of this device is to block the...</td>\n",
       "    </tr>\n",
       "    <tr>\n",
       "      <th>3</th>\n",
       "      <td>A2C00NNG1ZQQG2</td>\n",
       "      <td>1384719342</td>\n",
       "      <td>RustyBill \"Sunday Rocker\"</td>\n",
       "      <td>[0, 0]</td>\n",
       "      <td>5.0</td>\n",
       "      <td>1392336000</td>\n",
       "      <td>02 14, 2014</td>\n",
       "      <td>Nice windscreen protects my MXL mic and preven...</td>\n",
       "    </tr>\n",
       "    <tr>\n",
       "      <th>4</th>\n",
       "      <td>A94QU4C90B1AX</td>\n",
       "      <td>1384719342</td>\n",
       "      <td>SEAN MASLANKA</td>\n",
       "      <td>[0, 0]</td>\n",
       "      <td>5.0</td>\n",
       "      <td>1392940800</td>\n",
       "      <td>02 21, 2014</td>\n",
       "      <td>This pop filter is great. It looks and perform...</td>\n",
       "    </tr>\n",
       "  </tbody>\n",
       "</table>\n",
       "</div>"
      ],
      "text/plain": [
       "       reviewerID        asin  \\\n",
       "0  A2IBPI20UZIR0U  1384719342   \n",
       "1  A14VAT5EAX3D9S  1384719342   \n",
       "2  A195EZSQDW3E21  1384719342   \n",
       "3  A2C00NNG1ZQQG2  1384719342   \n",
       "4   A94QU4C90B1AX  1384719342   \n",
       "\n",
       "                                       reviewerName   helpful  overall  \\\n",
       "0  cassandra tu \"Yeah, well, that's just like, u...    [0, 0]      5.0   \n",
       "1                                              Jake  [13, 14]      5.0   \n",
       "2                     Rick Bennette \"Rick Bennette\"    [1, 1]      5.0   \n",
       "3                         RustyBill \"Sunday Rocker\"    [0, 0]      5.0   \n",
       "4                                     SEAN MASLANKA    [0, 0]      5.0   \n",
       "\n",
       "   unixReviewTime   reviewTime  \\\n",
       "0      1393545600  02 28, 2014   \n",
       "1      1363392000  03 16, 2013   \n",
       "2      1377648000  08 28, 2013   \n",
       "3      1392336000  02 14, 2014   \n",
       "4      1392940800  02 21, 2014   \n",
       "\n",
       "                                             reviews  \n",
       "0  Not much to write about here, but it does exac...  \n",
       "1  The product does exactly as it should and is q...  \n",
       "2  The primary job of this device is to block the...  \n",
       "3  Nice windscreen protects my MXL mic and preven...  \n",
       "4  This pop filter is great. It looks and perform...  "
      ]
     },
     "execution_count": 5,
     "metadata": {},
     "output_type": "execute_result"
    }
   ],
   "source": [
    "process_reviews['reviews']=process_reviews['reviewText']+process_reviews['summary']\n",
    "process_reviews=process_reviews.drop(['reviewText', 'summary'], axis=1)\n",
    "process_reviews.head()"
   ]
  },
  {
   "cell_type": "markdown",
   "id": "36d95cb4",
   "metadata": {},
   "source": [
    "# Creating 'sentiment' column\n",
    "\n",
    "This is an important preprocessing phase, we are deciding the outcome column (sentiment of review) based on the overall score. If the score is greater than 3, we take that as positive and if the value is less than 3 it is negative If it is equal to 3, we take that as neutral sentiment"
   ]
  },
  {
   "cell_type": "code",
   "execution_count": 6,
   "id": "4d727648",
   "metadata": {},
   "outputs": [
    {
     "data": {
      "text/plain": [
       "5.0    6938\n",
       "4.0    2084\n",
       "3.0     772\n",
       "2.0     250\n",
       "1.0     217\n",
       "Name: overall, dtype: int64"
      ]
     },
     "execution_count": 6,
     "metadata": {},
     "output_type": "execute_result"
    }
   ],
   "source": [
    "#Figuring out the distribution of categories\n",
    "process_reviews['overall'].value_counts()"
   ]
  },
  {
   "cell_type": "code",
   "execution_count": 7,
   "id": "67bbca83",
   "metadata": {},
   "outputs": [],
   "source": [
    "def f(row):\n",
    "    \n",
    "    '''This function returns sentiment value based on the overall ratings from the user'''\n",
    "    \n",
    "    if row['overall'] == 3.0:\n",
    "        val = 'Neutral'\n",
    "    elif row['overall'] == 1.0 or row['overall'] == 2.0:\n",
    "        val = 'Negative'\n",
    "    elif row['overall'] == 4.0 or row['overall'] == 5.0:\n",
    "        val = 'Positive'\n",
    "    else:\n",
    "        val = -1\n",
    "    return val"
   ]
  },
  {
   "cell_type": "code",
   "execution_count": 8,
   "id": "9ad25cec",
   "metadata": {},
   "outputs": [
    {
     "data": {
      "text/html": [
       "<div>\n",
       "<style scoped>\n",
       "    .dataframe tbody tr th:only-of-type {\n",
       "        vertical-align: middle;\n",
       "    }\n",
       "\n",
       "    .dataframe tbody tr th {\n",
       "        vertical-align: top;\n",
       "    }\n",
       "\n",
       "    .dataframe thead th {\n",
       "        text-align: right;\n",
       "    }\n",
       "</style>\n",
       "<table border=\"1\" class=\"dataframe\">\n",
       "  <thead>\n",
       "    <tr style=\"text-align: right;\">\n",
       "      <th></th>\n",
       "      <th>reviewerID</th>\n",
       "      <th>asin</th>\n",
       "      <th>reviewerName</th>\n",
       "      <th>helpful</th>\n",
       "      <th>overall</th>\n",
       "      <th>unixReviewTime</th>\n",
       "      <th>reviewTime</th>\n",
       "      <th>reviews</th>\n",
       "      <th>sentiment</th>\n",
       "    </tr>\n",
       "  </thead>\n",
       "  <tbody>\n",
       "    <tr>\n",
       "      <th>0</th>\n",
       "      <td>A2IBPI20UZIR0U</td>\n",
       "      <td>1384719342</td>\n",
       "      <td>cassandra tu \"Yeah, well, that's just like, u...</td>\n",
       "      <td>[0, 0]</td>\n",
       "      <td>5.0</td>\n",
       "      <td>1393545600</td>\n",
       "      <td>02 28, 2014</td>\n",
       "      <td>Not much to write about here, but it does exac...</td>\n",
       "      <td>Positive</td>\n",
       "    </tr>\n",
       "    <tr>\n",
       "      <th>1</th>\n",
       "      <td>A14VAT5EAX3D9S</td>\n",
       "      <td>1384719342</td>\n",
       "      <td>Jake</td>\n",
       "      <td>[13, 14]</td>\n",
       "      <td>5.0</td>\n",
       "      <td>1363392000</td>\n",
       "      <td>03 16, 2013</td>\n",
       "      <td>The product does exactly as it should and is q...</td>\n",
       "      <td>Positive</td>\n",
       "    </tr>\n",
       "    <tr>\n",
       "      <th>2</th>\n",
       "      <td>A195EZSQDW3E21</td>\n",
       "      <td>1384719342</td>\n",
       "      <td>Rick Bennette \"Rick Bennette\"</td>\n",
       "      <td>[1, 1]</td>\n",
       "      <td>5.0</td>\n",
       "      <td>1377648000</td>\n",
       "      <td>08 28, 2013</td>\n",
       "      <td>The primary job of this device is to block the...</td>\n",
       "      <td>Positive</td>\n",
       "    </tr>\n",
       "    <tr>\n",
       "      <th>3</th>\n",
       "      <td>A2C00NNG1ZQQG2</td>\n",
       "      <td>1384719342</td>\n",
       "      <td>RustyBill \"Sunday Rocker\"</td>\n",
       "      <td>[0, 0]</td>\n",
       "      <td>5.0</td>\n",
       "      <td>1392336000</td>\n",
       "      <td>02 14, 2014</td>\n",
       "      <td>Nice windscreen protects my MXL mic and preven...</td>\n",
       "      <td>Positive</td>\n",
       "    </tr>\n",
       "    <tr>\n",
       "      <th>4</th>\n",
       "      <td>A94QU4C90B1AX</td>\n",
       "      <td>1384719342</td>\n",
       "      <td>SEAN MASLANKA</td>\n",
       "      <td>[0, 0]</td>\n",
       "      <td>5.0</td>\n",
       "      <td>1392940800</td>\n",
       "      <td>02 21, 2014</td>\n",
       "      <td>This pop filter is great. It looks and perform...</td>\n",
       "      <td>Positive</td>\n",
       "    </tr>\n",
       "  </tbody>\n",
       "</table>\n",
       "</div>"
      ],
      "text/plain": [
       "       reviewerID        asin  \\\n",
       "0  A2IBPI20UZIR0U  1384719342   \n",
       "1  A14VAT5EAX3D9S  1384719342   \n",
       "2  A195EZSQDW3E21  1384719342   \n",
       "3  A2C00NNG1ZQQG2  1384719342   \n",
       "4   A94QU4C90B1AX  1384719342   \n",
       "\n",
       "                                       reviewerName   helpful  overall  \\\n",
       "0  cassandra tu \"Yeah, well, that's just like, u...    [0, 0]      5.0   \n",
       "1                                              Jake  [13, 14]      5.0   \n",
       "2                     Rick Bennette \"Rick Bennette\"    [1, 1]      5.0   \n",
       "3                         RustyBill \"Sunday Rocker\"    [0, 0]      5.0   \n",
       "4                                     SEAN MASLANKA    [0, 0]      5.0   \n",
       "\n",
       "   unixReviewTime   reviewTime  \\\n",
       "0      1393545600  02 28, 2014   \n",
       "1      1363392000  03 16, 2013   \n",
       "2      1377648000  08 28, 2013   \n",
       "3      1392336000  02 14, 2014   \n",
       "4      1392940800  02 21, 2014   \n",
       "\n",
       "                                             reviews sentiment  \n",
       "0  Not much to write about here, but it does exac...  Positive  \n",
       "1  The product does exactly as it should and is q...  Positive  \n",
       "2  The primary job of this device is to block the...  Positive  \n",
       "3  Nice windscreen protects my MXL mic and preven...  Positive  \n",
       "4  This pop filter is great. It looks and perform...  Positive  "
      ]
     },
     "execution_count": 8,
     "metadata": {},
     "output_type": "execute_result"
    }
   ],
   "source": [
    "#Applying the function in our new column\n",
    "process_reviews['sentiment'] = process_reviews.apply(f, axis=1)\n",
    "process_reviews.head()"
   ]
  },
  {
   "cell_type": "code",
   "execution_count": 9,
   "id": "e4c88dac",
   "metadata": {},
   "outputs": [
    {
     "data": {
      "text/plain": [
       "Positive    9022\n",
       "Neutral      772\n",
       "Negative     467\n",
       "Name: sentiment, dtype: int64"
      ]
     },
     "execution_count": 9,
     "metadata": {},
     "output_type": "execute_result"
    }
   ],
   "source": [
    "process_reviews['sentiment'].value_counts()"
   ]
  },
  {
   "cell_type": "markdown",
   "id": "44947529",
   "metadata": {},
   "source": [
    "# Handling time column\n",
    "Here we have an unusual review time column which has date and year, once we split both we will split the date further into month and date."
   ]
  },
  {
   "cell_type": "code",
   "execution_count": 10,
   "id": "a2760363",
   "metadata": {},
   "outputs": [
    {
     "data": {
      "text/html": [
       "<div>\n",
       "<style scoped>\n",
       "    .dataframe tbody tr th:only-of-type {\n",
       "        vertical-align: middle;\n",
       "    }\n",
       "\n",
       "    .dataframe tbody tr th {\n",
       "        vertical-align: top;\n",
       "    }\n",
       "\n",
       "    .dataframe thead th {\n",
       "        text-align: right;\n",
       "    }\n",
       "</style>\n",
       "<table border=\"1\" class=\"dataframe\">\n",
       "  <thead>\n",
       "    <tr style=\"text-align: right;\">\n",
       "      <th></th>\n",
       "      <th>reviewerID</th>\n",
       "      <th>asin</th>\n",
       "      <th>reviewerName</th>\n",
       "      <th>helpful</th>\n",
       "      <th>overall</th>\n",
       "      <th>unixReviewTime</th>\n",
       "      <th>reviews</th>\n",
       "      <th>sentiment</th>\n",
       "      <th>date</th>\n",
       "      <th>year</th>\n",
       "    </tr>\n",
       "  </thead>\n",
       "  <tbody>\n",
       "    <tr>\n",
       "      <th>0</th>\n",
       "      <td>A2IBPI20UZIR0U</td>\n",
       "      <td>1384719342</td>\n",
       "      <td>cassandra tu \"Yeah, well, that's just like, u...</td>\n",
       "      <td>[0, 0]</td>\n",
       "      <td>5.0</td>\n",
       "      <td>1393545600</td>\n",
       "      <td>Not much to write about here, but it does exac...</td>\n",
       "      <td>Positive</td>\n",
       "      <td>02 28</td>\n",
       "      <td>2014</td>\n",
       "    </tr>\n",
       "    <tr>\n",
       "      <th>1</th>\n",
       "      <td>A14VAT5EAX3D9S</td>\n",
       "      <td>1384719342</td>\n",
       "      <td>Jake</td>\n",
       "      <td>[13, 14]</td>\n",
       "      <td>5.0</td>\n",
       "      <td>1363392000</td>\n",
       "      <td>The product does exactly as it should and is q...</td>\n",
       "      <td>Positive</td>\n",
       "      <td>03 16</td>\n",
       "      <td>2013</td>\n",
       "    </tr>\n",
       "    <tr>\n",
       "      <th>2</th>\n",
       "      <td>A195EZSQDW3E21</td>\n",
       "      <td>1384719342</td>\n",
       "      <td>Rick Bennette \"Rick Bennette\"</td>\n",
       "      <td>[1, 1]</td>\n",
       "      <td>5.0</td>\n",
       "      <td>1377648000</td>\n",
       "      <td>The primary job of this device is to block the...</td>\n",
       "      <td>Positive</td>\n",
       "      <td>08 28</td>\n",
       "      <td>2013</td>\n",
       "    </tr>\n",
       "    <tr>\n",
       "      <th>3</th>\n",
       "      <td>A2C00NNG1ZQQG2</td>\n",
       "      <td>1384719342</td>\n",
       "      <td>RustyBill \"Sunday Rocker\"</td>\n",
       "      <td>[0, 0]</td>\n",
       "      <td>5.0</td>\n",
       "      <td>1392336000</td>\n",
       "      <td>Nice windscreen protects my MXL mic and preven...</td>\n",
       "      <td>Positive</td>\n",
       "      <td>02 14</td>\n",
       "      <td>2014</td>\n",
       "    </tr>\n",
       "    <tr>\n",
       "      <th>4</th>\n",
       "      <td>A94QU4C90B1AX</td>\n",
       "      <td>1384719342</td>\n",
       "      <td>SEAN MASLANKA</td>\n",
       "      <td>[0, 0]</td>\n",
       "      <td>5.0</td>\n",
       "      <td>1392940800</td>\n",
       "      <td>This pop filter is great. It looks and perform...</td>\n",
       "      <td>Positive</td>\n",
       "      <td>02 21</td>\n",
       "      <td>2014</td>\n",
       "    </tr>\n",
       "  </tbody>\n",
       "</table>\n",
       "</div>"
      ],
      "text/plain": [
       "       reviewerID        asin  \\\n",
       "0  A2IBPI20UZIR0U  1384719342   \n",
       "1  A14VAT5EAX3D9S  1384719342   \n",
       "2  A195EZSQDW3E21  1384719342   \n",
       "3  A2C00NNG1ZQQG2  1384719342   \n",
       "4   A94QU4C90B1AX  1384719342   \n",
       "\n",
       "                                       reviewerName   helpful  overall  \\\n",
       "0  cassandra tu \"Yeah, well, that's just like, u...    [0, 0]      5.0   \n",
       "1                                              Jake  [13, 14]      5.0   \n",
       "2                     Rick Bennette \"Rick Bennette\"    [1, 1]      5.0   \n",
       "3                         RustyBill \"Sunday Rocker\"    [0, 0]      5.0   \n",
       "4                                     SEAN MASLANKA    [0, 0]      5.0   \n",
       "\n",
       "   unixReviewTime                                            reviews  \\\n",
       "0      1393545600  Not much to write about here, but it does exac...   \n",
       "1      1363392000  The product does exactly as it should and is q...   \n",
       "2      1377648000  The primary job of this device is to block the...   \n",
       "3      1392336000  Nice windscreen protects my MXL mic and preven...   \n",
       "4      1392940800  This pop filter is great. It looks and perform...   \n",
       "\n",
       "  sentiment   date   year  \n",
       "0  Positive  02 28   2014  \n",
       "1  Positive  03 16   2013  \n",
       "2  Positive  08 28   2013  \n",
       "3  Positive  02 14   2014  \n",
       "4  Positive  02 21   2014  "
      ]
     },
     "execution_count": 10,
     "metadata": {},
     "output_type": "execute_result"
    }
   ],
   "source": [
    "# new data frame which has date and year\n",
    "new = process_reviews[\"reviewTime\"].str.split(\",\", n = 1, expand = True) \n",
    "  \n",
    "# making separate date column from new data frame \n",
    "process_reviews[\"date\"]= new[0] \n",
    "  \n",
    "# making separate year column from new data frame \n",
    "process_reviews[\"year\"]= new[1] \n",
    "\n",
    "process_reviews=process_reviews.drop(['reviewTime'], axis=1)\n",
    "process_reviews.head()"
   ]
  },
  {
   "cell_type": "code",
   "execution_count": 11,
   "id": "97f2b730",
   "metadata": {},
   "outputs": [
    {
     "data": {
      "text/html": [
       "<div>\n",
       "<style scoped>\n",
       "    .dataframe tbody tr th:only-of-type {\n",
       "        vertical-align: middle;\n",
       "    }\n",
       "\n",
       "    .dataframe tbody tr th {\n",
       "        vertical-align: top;\n",
       "    }\n",
       "\n",
       "    .dataframe thead th {\n",
       "        text-align: right;\n",
       "    }\n",
       "</style>\n",
       "<table border=\"1\" class=\"dataframe\">\n",
       "  <thead>\n",
       "    <tr style=\"text-align: right;\">\n",
       "      <th></th>\n",
       "      <th>reviewerID</th>\n",
       "      <th>asin</th>\n",
       "      <th>reviewerName</th>\n",
       "      <th>helpful</th>\n",
       "      <th>overall</th>\n",
       "      <th>unixReviewTime</th>\n",
       "      <th>reviews</th>\n",
       "      <th>sentiment</th>\n",
       "      <th>year</th>\n",
       "      <th>month</th>\n",
       "      <th>day</th>\n",
       "    </tr>\n",
       "  </thead>\n",
       "  <tbody>\n",
       "    <tr>\n",
       "      <th>0</th>\n",
       "      <td>A2IBPI20UZIR0U</td>\n",
       "      <td>1384719342</td>\n",
       "      <td>cassandra tu \"Yeah, well, that's just like, u...</td>\n",
       "      <td>[0, 0]</td>\n",
       "      <td>5.0</td>\n",
       "      <td>1393545600</td>\n",
       "      <td>Not much to write about here, but it does exac...</td>\n",
       "      <td>Positive</td>\n",
       "      <td>2014</td>\n",
       "      <td>02</td>\n",
       "      <td>28</td>\n",
       "    </tr>\n",
       "    <tr>\n",
       "      <th>1</th>\n",
       "      <td>A14VAT5EAX3D9S</td>\n",
       "      <td>1384719342</td>\n",
       "      <td>Jake</td>\n",
       "      <td>[13, 14]</td>\n",
       "      <td>5.0</td>\n",
       "      <td>1363392000</td>\n",
       "      <td>The product does exactly as it should and is q...</td>\n",
       "      <td>Positive</td>\n",
       "      <td>2013</td>\n",
       "      <td>03</td>\n",
       "      <td>16</td>\n",
       "    </tr>\n",
       "    <tr>\n",
       "      <th>2</th>\n",
       "      <td>A195EZSQDW3E21</td>\n",
       "      <td>1384719342</td>\n",
       "      <td>Rick Bennette \"Rick Bennette\"</td>\n",
       "      <td>[1, 1]</td>\n",
       "      <td>5.0</td>\n",
       "      <td>1377648000</td>\n",
       "      <td>The primary job of this device is to block the...</td>\n",
       "      <td>Positive</td>\n",
       "      <td>2013</td>\n",
       "      <td>08</td>\n",
       "      <td>28</td>\n",
       "    </tr>\n",
       "    <tr>\n",
       "      <th>3</th>\n",
       "      <td>A2C00NNG1ZQQG2</td>\n",
       "      <td>1384719342</td>\n",
       "      <td>RustyBill \"Sunday Rocker\"</td>\n",
       "      <td>[0, 0]</td>\n",
       "      <td>5.0</td>\n",
       "      <td>1392336000</td>\n",
       "      <td>Nice windscreen protects my MXL mic and preven...</td>\n",
       "      <td>Positive</td>\n",
       "      <td>2014</td>\n",
       "      <td>02</td>\n",
       "      <td>14</td>\n",
       "    </tr>\n",
       "    <tr>\n",
       "      <th>4</th>\n",
       "      <td>A94QU4C90B1AX</td>\n",
       "      <td>1384719342</td>\n",
       "      <td>SEAN MASLANKA</td>\n",
       "      <td>[0, 0]</td>\n",
       "      <td>5.0</td>\n",
       "      <td>1392940800</td>\n",
       "      <td>This pop filter is great. It looks and perform...</td>\n",
       "      <td>Positive</td>\n",
       "      <td>2014</td>\n",
       "      <td>02</td>\n",
       "      <td>21</td>\n",
       "    </tr>\n",
       "  </tbody>\n",
       "</table>\n",
       "</div>"
      ],
      "text/plain": [
       "       reviewerID        asin  \\\n",
       "0  A2IBPI20UZIR0U  1384719342   \n",
       "1  A14VAT5EAX3D9S  1384719342   \n",
       "2  A195EZSQDW3E21  1384719342   \n",
       "3  A2C00NNG1ZQQG2  1384719342   \n",
       "4   A94QU4C90B1AX  1384719342   \n",
       "\n",
       "                                       reviewerName   helpful  overall  \\\n",
       "0  cassandra tu \"Yeah, well, that's just like, u...    [0, 0]      5.0   \n",
       "1                                              Jake  [13, 14]      5.0   \n",
       "2                     Rick Bennette \"Rick Bennette\"    [1, 1]      5.0   \n",
       "3                         RustyBill \"Sunday Rocker\"    [0, 0]      5.0   \n",
       "4                                     SEAN MASLANKA    [0, 0]      5.0   \n",
       "\n",
       "   unixReviewTime                                            reviews  \\\n",
       "0      1393545600  Not much to write about here, but it does exac...   \n",
       "1      1363392000  The product does exactly as it should and is q...   \n",
       "2      1377648000  The primary job of this device is to block the...   \n",
       "3      1392336000  Nice windscreen protects my MXL mic and preven...   \n",
       "4      1392940800  This pop filter is great. It looks and perform...   \n",
       "\n",
       "  sentiment   year month day  \n",
       "0  Positive   2014    02  28  \n",
       "1  Positive   2013    03  16  \n",
       "2  Positive   2013    08  28  \n",
       "3  Positive   2014    02  14  \n",
       "4  Positive   2014    02  21  "
      ]
     },
     "execution_count": 11,
     "metadata": {},
     "output_type": "execute_result"
    }
   ],
   "source": [
    "# Splitting the date \n",
    "new1 = process_reviews[\"date\"].str.split(\" \", n = 1, expand = True) \n",
    "  \n",
    "# adding month to the main dataset \n",
    "process_reviews[\"month\"]= new1[0] \n",
    "  \n",
    "# adding day to the main dataset \n",
    "process_reviews[\"day\"]= new1[1] \n",
    "\n",
    "process_reviews=process_reviews.drop(['date'], axis=1)\n",
    "process_reviews.head()"
   ]
  },
  {
   "cell_type": "markdown",
   "id": "e7295fcf",
   "metadata": {},
   "source": [
    "# Finding the helpfulness of the review"
   ]
  },
  {
   "cell_type": "markdown",
   "id": "19050f7b",
   "metadata": {},
   "source": [
    "From the main dataframe we can see the helpful feature with values in list [a,b] format. It says that a out of b people found that review helpful. But with that format, it could not add value to the machine learning model and it will be difficult to decrypt the meaning for the machine. So I have planned to create helpful_rate feature which returns a/b value from [a,b]."
   ]
  },
  {
   "cell_type": "code",
   "execution_count": 12,
   "id": "2b178d72",
   "metadata": {},
   "outputs": [],
   "source": [
    "# Splitting the dataset based on comma and square bracket \n",
    "new1 = process_reviews[\"helpful\"].str.split(\",\", n = 1, expand = True)\n",
    "new2 = new1[0].str.split(\"[\", n = 1, expand = True)\n",
    "new3 = new1[1].str.split(\"]\", n = 1, expand = True)\n",
    "\n",
    "#Resetting the index\n",
    "new2.reset_index(drop=True, inplace=True)\n",
    "new3.reset_index(drop=True, inplace=True)\n",
    "\n",
    "#Dropping empty columns due to splitting \n",
    "new2=new2.drop([0], axis=1)\n",
    "new3=new3.drop([1], axis=1)\n",
    "\n",
    "#Concatenating the splitted columns\n",
    "helpful=pd.concat([new2, new3], axis=1)\n",
    "\n",
    "\n",
    "# I found few spaces in new3, so it is better to strip all the values to find the rate\n",
    "def trim_all_columns(df):\n",
    "    \"\"\"\n",
    "    Trim whitespace from ends of each value across all series in dataframe\n",
    "    \"\"\"\n",
    "    trim_strings = lambda x: x.strip() if isinstance(x, str) else x\n",
    "    return df.applymap(trim_strings)\n",
    "\n",
    "#Applying the function\n",
    "helpful= trim_all_columns(helpful)\n",
    "\n",
    "#Converting into integer types\n",
    "helpful[0]=helpful[0].astype(str).astype(int)\n",
    "helpful[1]=helpful[1].astype(str).astype(int)\n",
    "\n",
    "#Dividing the two columns, we have 0 in the second columns when dvided gives error, so I'm ignoring those errors\n",
    "try:\n",
    "  helpful['result'] = helpful[1]/helpful[0]\n",
    "except ZeroDivisionError:\n",
    "  helpful['result']=0\n",
    "\n",
    "#Filling the NaN values(created due to dividing) with 0\n",
    "helpful['result'] = helpful['result'].fillna(0)\n",
    "\n",
    "#Rounding of the results to two decimal places\n",
    "helpful['result']=helpful['result'].round(2) \n",
    "\n",
    "#Attaching the results to a new column of the main dataframe\n",
    "process_reviews['helpful_rate']=helpful['result']\n",
    "\n",
    "#dropping the helpful column from main dataframe\n",
    "process_reviews=process_reviews.drop(['helpful'], axis=1)"
   ]
  },
  {
   "cell_type": "code",
   "execution_count": 13,
   "id": "cd4f2993",
   "metadata": {},
   "outputs": [
    {
     "data": {
      "text/html": [
       "<div>\n",
       "<style scoped>\n",
       "    .dataframe tbody tr th:only-of-type {\n",
       "        vertical-align: middle;\n",
       "    }\n",
       "\n",
       "    .dataframe tbody tr th {\n",
       "        vertical-align: top;\n",
       "    }\n",
       "\n",
       "    .dataframe thead th {\n",
       "        text-align: right;\n",
       "    }\n",
       "</style>\n",
       "<table border=\"1\" class=\"dataframe\">\n",
       "  <thead>\n",
       "    <tr style=\"text-align: right;\">\n",
       "      <th></th>\n",
       "      <th>reviewerID</th>\n",
       "      <th>asin</th>\n",
       "      <th>reviewerName</th>\n",
       "      <th>overall</th>\n",
       "      <th>unixReviewTime</th>\n",
       "      <th>reviews</th>\n",
       "      <th>sentiment</th>\n",
       "      <th>year</th>\n",
       "      <th>month</th>\n",
       "      <th>day</th>\n",
       "      <th>helpful_rate</th>\n",
       "    </tr>\n",
       "  </thead>\n",
       "  <tbody>\n",
       "    <tr>\n",
       "      <th>0</th>\n",
       "      <td>A2IBPI20UZIR0U</td>\n",
       "      <td>1384719342</td>\n",
       "      <td>cassandra tu \"Yeah, well, that's just like, u...</td>\n",
       "      <td>5.0</td>\n",
       "      <td>1393545600</td>\n",
       "      <td>Not much to write about here, but it does exac...</td>\n",
       "      <td>Positive</td>\n",
       "      <td>2014</td>\n",
       "      <td>02</td>\n",
       "      <td>28</td>\n",
       "      <td>0.00</td>\n",
       "    </tr>\n",
       "    <tr>\n",
       "      <th>1</th>\n",
       "      <td>A14VAT5EAX3D9S</td>\n",
       "      <td>1384719342</td>\n",
       "      <td>Jake</td>\n",
       "      <td>5.0</td>\n",
       "      <td>1363392000</td>\n",
       "      <td>The product does exactly as it should and is q...</td>\n",
       "      <td>Positive</td>\n",
       "      <td>2013</td>\n",
       "      <td>03</td>\n",
       "      <td>16</td>\n",
       "      <td>0.93</td>\n",
       "    </tr>\n",
       "    <tr>\n",
       "      <th>2</th>\n",
       "      <td>A195EZSQDW3E21</td>\n",
       "      <td>1384719342</td>\n",
       "      <td>Rick Bennette \"Rick Bennette\"</td>\n",
       "      <td>5.0</td>\n",
       "      <td>1377648000</td>\n",
       "      <td>The primary job of this device is to block the...</td>\n",
       "      <td>Positive</td>\n",
       "      <td>2013</td>\n",
       "      <td>08</td>\n",
       "      <td>28</td>\n",
       "      <td>1.00</td>\n",
       "    </tr>\n",
       "    <tr>\n",
       "      <th>3</th>\n",
       "      <td>A2C00NNG1ZQQG2</td>\n",
       "      <td>1384719342</td>\n",
       "      <td>RustyBill \"Sunday Rocker\"</td>\n",
       "      <td>5.0</td>\n",
       "      <td>1392336000</td>\n",
       "      <td>Nice windscreen protects my MXL mic and preven...</td>\n",
       "      <td>Positive</td>\n",
       "      <td>2014</td>\n",
       "      <td>02</td>\n",
       "      <td>14</td>\n",
       "      <td>0.00</td>\n",
       "    </tr>\n",
       "    <tr>\n",
       "      <th>4</th>\n",
       "      <td>A94QU4C90B1AX</td>\n",
       "      <td>1384719342</td>\n",
       "      <td>SEAN MASLANKA</td>\n",
       "      <td>5.0</td>\n",
       "      <td>1392940800</td>\n",
       "      <td>This pop filter is great. It looks and perform...</td>\n",
       "      <td>Positive</td>\n",
       "      <td>2014</td>\n",
       "      <td>02</td>\n",
       "      <td>21</td>\n",
       "      <td>0.00</td>\n",
       "    </tr>\n",
       "  </tbody>\n",
       "</table>\n",
       "</div>"
      ],
      "text/plain": [
       "       reviewerID        asin  \\\n",
       "0  A2IBPI20UZIR0U  1384719342   \n",
       "1  A14VAT5EAX3D9S  1384719342   \n",
       "2  A195EZSQDW3E21  1384719342   \n",
       "3  A2C00NNG1ZQQG2  1384719342   \n",
       "4   A94QU4C90B1AX  1384719342   \n",
       "\n",
       "                                       reviewerName  overall  unixReviewTime  \\\n",
       "0  cassandra tu \"Yeah, well, that's just like, u...      5.0      1393545600   \n",
       "1                                              Jake      5.0      1363392000   \n",
       "2                     Rick Bennette \"Rick Bennette\"      5.0      1377648000   \n",
       "3                         RustyBill \"Sunday Rocker\"      5.0      1392336000   \n",
       "4                                     SEAN MASLANKA      5.0      1392940800   \n",
       "\n",
       "                                             reviews sentiment   year month  \\\n",
       "0  Not much to write about here, but it does exac...  Positive   2014    02   \n",
       "1  The product does exactly as it should and is q...  Positive   2013    03   \n",
       "2  The primary job of this device is to block the...  Positive   2013    08   \n",
       "3  Nice windscreen protects my MXL mic and preven...  Positive   2014    02   \n",
       "4  This pop filter is great. It looks and perform...  Positive   2014    02   \n",
       "\n",
       "  day  helpful_rate  \n",
       "0  28          0.00  \n",
       "1  16          0.93  \n",
       "2  28          1.00  \n",
       "3  14          0.00  \n",
       "4  21          0.00  "
      ]
     },
     "execution_count": 13,
     "metadata": {},
     "output_type": "execute_result"
    }
   ],
   "source": [
    "process_reviews.head()"
   ]
  },
  {
   "cell_type": "code",
   "execution_count": 14,
   "id": "c1d282d1",
   "metadata": {},
   "outputs": [
    {
     "data": {
      "text/plain": [
       "0.00    7215\n",
       "1.00    2040\n",
       "0.50     266\n",
       "0.67     136\n",
       "0.75     111\n",
       "        ... \n",
       "0.56       1\n",
       "0.15       1\n",
       "0.13       1\n",
       "0.43       1\n",
       "0.69       1\n",
       "Name: helpful_rate, Length: 65, dtype: int64"
      ]
     },
     "execution_count": 14,
     "metadata": {},
     "output_type": "execute_result"
    }
   ],
   "source": [
    "process_reviews['helpful_rate'].value_counts()"
   ]
  },
  {
   "cell_type": "markdown",
   "id": "7320aff7",
   "metadata": {},
   "source": [
    "0.00 indicates that the review hasn't been much helpful and 1.00 indicates that the review has been very helpful"
   ]
  },
  {
   "cell_type": "markdown",
   "id": "0de1686e",
   "metadata": {},
   "source": [
    "# Review text-Punctuation Cleaning"
   ]
  },
  {
   "cell_type": "markdown",
   "id": "68373b4c",
   "metadata": {},
   "source": [
    "Let's begin our text processing by removing the punctuations"
   ]
  },
  {
   "cell_type": "code",
   "execution_count": 15,
   "id": "fc14646d",
   "metadata": {},
   "outputs": [],
   "source": [
    "#Removing unnecessary columns\n",
    "process_reviews=process_reviews.drop(['reviewerName','unixReviewTime'], axis=1)\n",
    "#Creating a copy \n",
    "clean_reviews=process_reviews.copy()"
   ]
  },
  {
   "cell_type": "code",
   "execution_count": 16,
   "id": "84034108",
   "metadata": {},
   "outputs": [],
   "source": [
    "def review_cleaning(text):\n",
    "    '''Make text lowercase, remove text in square brackets,remove links,remove punctuation\n",
    "    and remove words containing numbers.'''\n",
    "    text = str(text).lower()\n",
    "    text = re.sub('\\[.*?\\]', '', text)\n",
    "    text = re.sub('https?://\\S+|www\\.\\S+', '', text)\n",
    "    text = re.sub('<.*?>+', '', text)\n",
    "    text = re.sub('[%s]' % re.escape(string.punctuation), '', text)\n",
    "    text = re.sub('\\n', '', text)\n",
    "    text = re.sub('\\w*\\d\\w*', '', text)\n",
    "    return text"
   ]
  },
  {
   "cell_type": "code",
   "execution_count": 17,
   "id": "476271c9",
   "metadata": {},
   "outputs": [
    {
     "data": {
      "text/html": [
       "<div>\n",
       "<style scoped>\n",
       "    .dataframe tbody tr th:only-of-type {\n",
       "        vertical-align: middle;\n",
       "    }\n",
       "\n",
       "    .dataframe tbody tr th {\n",
       "        vertical-align: top;\n",
       "    }\n",
       "\n",
       "    .dataframe thead th {\n",
       "        text-align: right;\n",
       "    }\n",
       "</style>\n",
       "<table border=\"1\" class=\"dataframe\">\n",
       "  <thead>\n",
       "    <tr style=\"text-align: right;\">\n",
       "      <th></th>\n",
       "      <th>reviewerID</th>\n",
       "      <th>asin</th>\n",
       "      <th>overall</th>\n",
       "      <th>reviews</th>\n",
       "      <th>sentiment</th>\n",
       "      <th>year</th>\n",
       "      <th>month</th>\n",
       "      <th>day</th>\n",
       "      <th>helpful_rate</th>\n",
       "    </tr>\n",
       "  </thead>\n",
       "  <tbody>\n",
       "    <tr>\n",
       "      <th>0</th>\n",
       "      <td>A2IBPI20UZIR0U</td>\n",
       "      <td>1384719342</td>\n",
       "      <td>5.0</td>\n",
       "      <td>not much to write about here but it does exact...</td>\n",
       "      <td>Positive</td>\n",
       "      <td>2014</td>\n",
       "      <td>02</td>\n",
       "      <td>28</td>\n",
       "      <td>0.00</td>\n",
       "    </tr>\n",
       "    <tr>\n",
       "      <th>1</th>\n",
       "      <td>A14VAT5EAX3D9S</td>\n",
       "      <td>1384719342</td>\n",
       "      <td>5.0</td>\n",
       "      <td>the product does exactly as it should and is q...</td>\n",
       "      <td>Positive</td>\n",
       "      <td>2013</td>\n",
       "      <td>03</td>\n",
       "      <td>16</td>\n",
       "      <td>0.93</td>\n",
       "    </tr>\n",
       "    <tr>\n",
       "      <th>2</th>\n",
       "      <td>A195EZSQDW3E21</td>\n",
       "      <td>1384719342</td>\n",
       "      <td>5.0</td>\n",
       "      <td>the primary job of this device is to block the...</td>\n",
       "      <td>Positive</td>\n",
       "      <td>2013</td>\n",
       "      <td>08</td>\n",
       "      <td>28</td>\n",
       "      <td>1.00</td>\n",
       "    </tr>\n",
       "    <tr>\n",
       "      <th>3</th>\n",
       "      <td>A2C00NNG1ZQQG2</td>\n",
       "      <td>1384719342</td>\n",
       "      <td>5.0</td>\n",
       "      <td>nice windscreen protects my mxl mic and preven...</td>\n",
       "      <td>Positive</td>\n",
       "      <td>2014</td>\n",
       "      <td>02</td>\n",
       "      <td>14</td>\n",
       "      <td>0.00</td>\n",
       "    </tr>\n",
       "    <tr>\n",
       "      <th>4</th>\n",
       "      <td>A94QU4C90B1AX</td>\n",
       "      <td>1384719342</td>\n",
       "      <td>5.0</td>\n",
       "      <td>this pop filter is great it looks and performs...</td>\n",
       "      <td>Positive</td>\n",
       "      <td>2014</td>\n",
       "      <td>02</td>\n",
       "      <td>21</td>\n",
       "      <td>0.00</td>\n",
       "    </tr>\n",
       "  </tbody>\n",
       "</table>\n",
       "</div>"
      ],
      "text/plain": [
       "       reviewerID        asin  overall  \\\n",
       "0  A2IBPI20UZIR0U  1384719342      5.0   \n",
       "1  A14VAT5EAX3D9S  1384719342      5.0   \n",
       "2  A195EZSQDW3E21  1384719342      5.0   \n",
       "3  A2C00NNG1ZQQG2  1384719342      5.0   \n",
       "4   A94QU4C90B1AX  1384719342      5.0   \n",
       "\n",
       "                                             reviews sentiment   year month  \\\n",
       "0  not much to write about here but it does exact...  Positive   2014    02   \n",
       "1  the product does exactly as it should and is q...  Positive   2013    03   \n",
       "2  the primary job of this device is to block the...  Positive   2013    08   \n",
       "3  nice windscreen protects my mxl mic and preven...  Positive   2014    02   \n",
       "4  this pop filter is great it looks and performs...  Positive   2014    02   \n",
       "\n",
       "  day  helpful_rate  \n",
       "0  28          0.00  \n",
       "1  16          0.93  \n",
       "2  28          1.00  \n",
       "3  14          0.00  \n",
       "4  21          0.00  "
      ]
     },
     "execution_count": 17,
     "metadata": {},
     "output_type": "execute_result"
    }
   ],
   "source": [
    "process_reviews['reviews']=process_reviews['reviews'].apply(lambda x:review_cleaning(x))\n",
    "process_reviews.head()"
   ]
  },
  {
   "cell_type": "markdown",
   "id": "ecfcf3e3",
   "metadata": {},
   "source": [
    "We have removed all punctuation in our review column"
   ]
  },
  {
   "cell_type": "markdown",
   "id": "dd2a00eb",
   "metadata": {},
   "source": [
    "# Review text-Stop words"
   ]
  },
  {
   "cell_type": "markdown",
   "id": "1ccd6218",
   "metadata": {},
   "source": [
    "Coming to stop words, general nltk stop words contains words like not,hasn't,would'nt which actually conveys a negative sentiment. If we remove that it will end up contradicting the target variable(sentiment). So I have curated the stop words which doesn't have any negative sentiment or any negative alternatives."
   ]
  },
  {
   "cell_type": "code",
   "execution_count": 18,
   "id": "7e2550fd",
   "metadata": {},
   "outputs": [],
   "source": [
    "stop_words= ['yourselves', 'between', 'whom', 'itself', 'is', \"she's\", 'up', 'herself', 'here', 'your', 'each', \n",
    "             'we', 'he', 'my', \"you've\", 'having', 'in', 'both', 'for', 'themselves', 'are', 'them', 'other',\n",
    "             'and', 'an', 'during', 'their', 'can', 'yourself', 'she', 'until', 'so', 'these', 'ours', 'above', \n",
    "             'what', 'while', 'have', 're', 'more', 'only', \"needn't\", 'when', 'just', 'that', 'were', \"don't\", \n",
    "             'very', 'should', 'any', 'y', 'isn', 'who',  'a', 'they', 'to', 'too', \"should've\", 'has', 'before',\n",
    "             'into', 'yours', \"it's\", 'do', 'against', 'on',  'now', 'her', 've', 'd', 'by', 'am', 'from', \n",
    "             'about', 'further', \"that'll\", \"you'd\", 'you', 'as', 'how', 'been', 'the', 'or', 'doing', 'such',\n",
    "             'his', 'himself', 'ourselves',  'was', 'through', 'out', 'below', 'own', 'myself', 'theirs', \n",
    "             'me', 'why', 'once',  'him', 'than', 'be', 'most', \"you'll\", 'same', 'some', 'with', 'few', 'it',\n",
    "             'at', 'after', 'its', 'which', 'there','our', 'this', 'hers', 'being', 'did', 'of', 'had', 'under',\n",
    "             'over','again', 'where', 'those', 'then', \"you're\", 'i', 'because', 'does', 'all']"
   ]
  },
  {
   "cell_type": "code",
   "execution_count": 19,
   "id": "a3fc0991",
   "metadata": {},
   "outputs": [
    {
     "data": {
      "text/html": [
       "<div>\n",
       "<style scoped>\n",
       "    .dataframe tbody tr th:only-of-type {\n",
       "        vertical-align: middle;\n",
       "    }\n",
       "\n",
       "    .dataframe tbody tr th {\n",
       "        vertical-align: top;\n",
       "    }\n",
       "\n",
       "    .dataframe thead th {\n",
       "        text-align: right;\n",
       "    }\n",
       "</style>\n",
       "<table border=\"1\" class=\"dataframe\">\n",
       "  <thead>\n",
       "    <tr style=\"text-align: right;\">\n",
       "      <th></th>\n",
       "      <th>reviewerID</th>\n",
       "      <th>asin</th>\n",
       "      <th>overall</th>\n",
       "      <th>reviews</th>\n",
       "      <th>sentiment</th>\n",
       "      <th>year</th>\n",
       "      <th>month</th>\n",
       "      <th>day</th>\n",
       "      <th>helpful_rate</th>\n",
       "    </tr>\n",
       "  </thead>\n",
       "  <tbody>\n",
       "    <tr>\n",
       "      <th>0</th>\n",
       "      <td>A2IBPI20UZIR0U</td>\n",
       "      <td>1384719342</td>\n",
       "      <td>5.0</td>\n",
       "      <td>not much write but exactly supposed filters po...</td>\n",
       "      <td>Positive</td>\n",
       "      <td>2014</td>\n",
       "      <td>02</td>\n",
       "      <td>28</td>\n",
       "      <td>0.00</td>\n",
       "    </tr>\n",
       "    <tr>\n",
       "      <th>1</th>\n",
       "      <td>A14VAT5EAX3D9S</td>\n",
       "      <td>1384719342</td>\n",
       "      <td>5.0</td>\n",
       "      <td>product exactly quite affordablei not realized...</td>\n",
       "      <td>Positive</td>\n",
       "      <td>2013</td>\n",
       "      <td>03</td>\n",
       "      <td>16</td>\n",
       "      <td>0.93</td>\n",
       "    </tr>\n",
       "    <tr>\n",
       "      <th>2</th>\n",
       "      <td>A195EZSQDW3E21</td>\n",
       "      <td>1384719342</td>\n",
       "      <td>5.0</td>\n",
       "      <td>primary job device block breath would otherwis...</td>\n",
       "      <td>Positive</td>\n",
       "      <td>2013</td>\n",
       "      <td>08</td>\n",
       "      <td>28</td>\n",
       "      <td>1.00</td>\n",
       "    </tr>\n",
       "    <tr>\n",
       "      <th>3</th>\n",
       "      <td>A2C00NNG1ZQQG2</td>\n",
       "      <td>1384719342</td>\n",
       "      <td>5.0</td>\n",
       "      <td>nice windscreen protects mxl mic prevents pops...</td>\n",
       "      <td>Positive</td>\n",
       "      <td>2014</td>\n",
       "      <td>02</td>\n",
       "      <td>14</td>\n",
       "      <td>0.00</td>\n",
       "    </tr>\n",
       "    <tr>\n",
       "      <th>4</th>\n",
       "      <td>A94QU4C90B1AX</td>\n",
       "      <td>1384719342</td>\n",
       "      <td>5.0</td>\n",
       "      <td>pop filter great looks performs like studio fi...</td>\n",
       "      <td>Positive</td>\n",
       "      <td>2014</td>\n",
       "      <td>02</td>\n",
       "      <td>21</td>\n",
       "      <td>0.00</td>\n",
       "    </tr>\n",
       "  </tbody>\n",
       "</table>\n",
       "</div>"
      ],
      "text/plain": [
       "       reviewerID        asin  overall  \\\n",
       "0  A2IBPI20UZIR0U  1384719342      5.0   \n",
       "1  A14VAT5EAX3D9S  1384719342      5.0   \n",
       "2  A195EZSQDW3E21  1384719342      5.0   \n",
       "3  A2C00NNG1ZQQG2  1384719342      5.0   \n",
       "4   A94QU4C90B1AX  1384719342      5.0   \n",
       "\n",
       "                                             reviews sentiment   year month  \\\n",
       "0  not much write but exactly supposed filters po...  Positive   2014    02   \n",
       "1  product exactly quite affordablei not realized...  Positive   2013    03   \n",
       "2  primary job device block breath would otherwis...  Positive   2013    08   \n",
       "3  nice windscreen protects mxl mic prevents pops...  Positive   2014    02   \n",
       "4  pop filter great looks performs like studio fi...  Positive   2014    02   \n",
       "\n",
       "  day  helpful_rate  \n",
       "0  28          0.00  \n",
       "1  16          0.93  \n",
       "2  28          1.00  \n",
       "3  14          0.00  \n",
       "4  21          0.00  "
      ]
     },
     "execution_count": 19,
     "metadata": {},
     "output_type": "execute_result"
    }
   ],
   "source": [
    "process_reviews['reviews'] = process_reviews['reviews'].apply(lambda x: ' '.join([word for word in x.split() if word not in (stop_words)]))\n",
    "process_reviews.head()"
   ]
  },
  {
   "cell_type": "markdown",
   "id": "69a1444c",
   "metadata": {},
   "source": [
    "We have removed all the stop words in the review column"
   ]
  },
  {
   "cell_type": "markdown",
   "id": "d098781a",
   "metadata": {},
   "source": [
    "From the table we can see that the mean of of helpful rate is higher for any negative reviews than neutral and positive reviews. These mean value might have been influenced by the 0 values in helpful rates. Lets check how it is distributed through violin plot"
   ]
  },
  {
   "cell_type": "markdown",
   "id": "3ee4977c",
   "metadata": {},
   "source": [
    "Let's check if there are any relationship between reviews and day of month"
   ]
  },
  {
   "cell_type": "markdown",
   "id": "08e69215",
   "metadata": {},
   "source": [
    "Creating few more features for text analysis"
   ]
  },
  {
   "cell_type": "code",
   "execution_count": 20,
   "id": "45b4403c",
   "metadata": {},
   "outputs": [],
   "source": [
    "process_reviews['polarity'] = process_reviews['reviews'].map(lambda text: TextBlob(text).sentiment.polarity)\n",
    "process_reviews['review_len'] = process_reviews['reviews'].astype(str).apply(len)\n",
    "process_reviews['word_count'] = process_reviews['reviews'].apply(lambda x: len(str(x).split()))"
   ]
  },
  {
   "cell_type": "markdown",
   "id": "22f130ec",
   "metadata": {},
   "source": [
    "# Extracting Features from Cleaned reviews"
   ]
  },
  {
   "cell_type": "markdown",
   "id": "48ae83e5",
   "metadata": {},
   "source": [
    "Before we build the model for our sentiment analysis, it is required to convert the review texts into vector formation as computer cannot understand words and their sentiment. In this project, we are going to use TF-IDF method to convert the texts\n"
   ]
  },
  {
   "cell_type": "markdown",
   "id": "7e51db37",
   "metadata": {},
   "source": [
    "# Encoding target variable-sentiment"
   ]
  },
  {
   "cell_type": "markdown",
   "id": "43ba0606",
   "metadata": {},
   "source": [
    "Let's encode our target variable with Label encoder."
   ]
  },
  {
   "cell_type": "code",
   "execution_count": 21,
   "id": "5b006ddb",
   "metadata": {},
   "outputs": [
    {
     "data": {
      "text/plain": [
       "array([2, 1, 0])"
      ]
     },
     "execution_count": 21,
     "metadata": {},
     "output_type": "execute_result"
    }
   ],
   "source": [
    "# calling the label encoder function\n",
    "label_encoder = preprocessing.LabelEncoder() \n",
    "  \n",
    "# Encode labels in column 'sentiment'. \n",
    "process_reviews['sentiment']= label_encoder.fit_transform(process_reviews['sentiment']) \n",
    "  \n",
    "process_reviews['sentiment'].unique() "
   ]
  },
  {
   "cell_type": "code",
   "execution_count": 22,
   "id": "065a79bc",
   "metadata": {},
   "outputs": [
    {
     "data": {
      "text/plain": [
       "2    9022\n",
       "1     772\n",
       "0     467\n",
       "Name: sentiment, dtype: int64"
      ]
     },
     "execution_count": 22,
     "metadata": {},
     "output_type": "execute_result"
    }
   ],
   "source": [
    "process_reviews['sentiment'].value_counts()"
   ]
  },
  {
   "cell_type": "markdown",
   "id": "bcaa6694",
   "metadata": {},
   "source": [
    "# Stemming the reviews"
   ]
  },
  {
   "cell_type": "markdown",
   "id": "307180c4",
   "metadata": {},
   "source": [
    "Stemming is a method of deriving root word from the inflected word. Here we extract the reviews and convert the words in reviews to its root word. for example,\n",
    "\n",
    "Going->go\n",
    "\n",
    "Finally->fina\n"
   ]
  },
  {
   "cell_type": "code",
   "execution_count": 23,
   "id": "16a7172e",
   "metadata": {},
   "outputs": [
    {
     "data": {
      "text/html": [
       "<div>\n",
       "<style scoped>\n",
       "    .dataframe tbody tr th:only-of-type {\n",
       "        vertical-align: middle;\n",
       "    }\n",
       "\n",
       "    .dataframe tbody tr th {\n",
       "        vertical-align: top;\n",
       "    }\n",
       "\n",
       "    .dataframe thead th {\n",
       "        text-align: right;\n",
       "    }\n",
       "</style>\n",
       "<table border=\"1\" class=\"dataframe\">\n",
       "  <thead>\n",
       "    <tr style=\"text-align: right;\">\n",
       "      <th></th>\n",
       "      <th>reviews</th>\n",
       "    </tr>\n",
       "  </thead>\n",
       "  <tbody>\n",
       "    <tr>\n",
       "      <th>0</th>\n",
       "      <td>not much write but exactly supposed filters po...</td>\n",
       "    </tr>\n",
       "    <tr>\n",
       "      <th>1</th>\n",
       "      <td>product exactly quite affordablei not realized...</td>\n",
       "    </tr>\n",
       "    <tr>\n",
       "      <th>2</th>\n",
       "      <td>primary job device block breath would otherwis...</td>\n",
       "    </tr>\n",
       "    <tr>\n",
       "      <th>3</th>\n",
       "      <td>nice windscreen protects mxl mic prevents pops...</td>\n",
       "    </tr>\n",
       "    <tr>\n",
       "      <th>4</th>\n",
       "      <td>pop filter great looks performs like studio fi...</td>\n",
       "    </tr>\n",
       "  </tbody>\n",
       "</table>\n",
       "</div>"
      ],
      "text/plain": [
       "                                             reviews\n",
       "0  not much write but exactly supposed filters po...\n",
       "1  product exactly quite affordablei not realized...\n",
       "2  primary job device block breath would otherwis...\n",
       "3  nice windscreen protects mxl mic prevents pops...\n",
       "4  pop filter great looks performs like studio fi..."
      ]
     },
     "execution_count": 23,
     "metadata": {},
     "output_type": "execute_result"
    }
   ],
   "source": [
    "#Extracting 'reviews' for processing\n",
    "review_features=process_reviews.copy()\n",
    "review_features=review_features[['reviews']].reset_index(drop=True)\n",
    "review_features.head()"
   ]
  },
  {
   "cell_type": "code",
   "execution_count": 24,
   "id": "3a364971",
   "metadata": {},
   "outputs": [],
   "source": [
    "tfidf_vectorizer = TfidfVectorizer(max_features=5000,ngram_range=(2,2))\n",
    "# TF-IDF feature matrix\n",
    "X= tfidf_vectorizer.fit_transform(review_features['reviews'])"
   ]
  },
  {
   "cell_type": "code",
   "execution_count": 25,
   "id": "339972a3",
   "metadata": {},
   "outputs": [],
   "source": [
    "#Getting the target variable(encoded)\n",
    "y=process_reviews['sentiment']"
   ]
  },
  {
   "cell_type": "code",
   "execution_count": 26,
   "id": "0bd11497",
   "metadata": {},
   "outputs": [],
   "source": [
    "from collections import Counter\n",
    "\n",
    "from imblearn.over_sampling import SMOTE"
   ]
  },
  {
   "cell_type": "code",
   "execution_count": 27,
   "id": "9782d19b",
   "metadata": {},
   "outputs": [
    {
     "name": "stdout",
     "output_type": "stream",
     "text": [
      "Original dataset shape : Counter({2: 9022, 1: 772, 0: 467})\n",
      "Resampled dataset shape Counter({2: 9022, 1: 9022, 0: 9022})\n"
     ]
    }
   ],
   "source": [
    "print(f'Original dataset shape : {Counter(y)}')\n",
    "\n",
    "smote = SMOTE(random_state=42)\n",
    "X_res, y_res = smote.fit_resample(X, y)\n",
    "\n",
    "print(f'Resampled dataset shape {Counter(y_res)}')"
   ]
  },
  {
   "cell_type": "markdown",
   "id": "f959d076",
   "metadata": {},
   "source": [
    "Great, as you can see the resampled data has equally distributed classes"
   ]
  },
  {
   "cell_type": "markdown",
   "id": "91edd2d9",
   "metadata": {},
   "source": [
    "# Train-test split(75:25)"
   ]
  },
  {
   "cell_type": "markdown",
   "id": "b233a7af",
   "metadata": {},
   "source": [
    "Using train test split function we are splitting the dataset into 75:25 ratio for train and test set respectively."
   ]
  },
  {
   "cell_type": "code",
   "execution_count": 28,
   "id": "8a0224b0",
   "metadata": {},
   "outputs": [],
   "source": [
    "## Divide the dataset into Train and Test\n",
    "X_train, X_test, y_train, y_test = train_test_split(X_res, y_res, test_size=0.25, random_state=0)"
   ]
  },
  {
   "cell_type": "markdown",
   "id": "5a2df45a",
   "metadata": {},
   "source": [
    "# Model Building: Sentiment Analysis"
   ]
  },
  {
   "cell_type": "markdown",
   "id": "57b509f1",
   "metadata": {},
   "source": [
    "As we have successfully processed the text data, not it is just a normal machine learning problem. Where from the sparse matrix we predict the classes in target feature."
   ]
  },
  {
   "cell_type": "markdown",
   "id": "93e4a1ae",
   "metadata": {},
   "source": [
    "# Logistic Regression with Hyperparameter tuning"
   ]
  },
  {
   "cell_type": "markdown",
   "id": "075b9abd",
   "metadata": {},
   "source": [
    "We use regularization parameter and penality for parameter tuning. let's see which one to plug."
   ]
  },
  {
   "cell_type": "code",
   "execution_count": 29,
   "id": "264b3e17",
   "metadata": {},
   "outputs": [
    {
     "name": "stdout",
     "output_type": "stream",
     "text": [
      "Accuracy of logistic regression classifier on test set: 0.94\n"
     ]
    }
   ],
   "source": [
    "logreg = LogisticRegression(C=10000.0, random_state=0)\n",
    "logreg.fit(X_train, y_train)\n",
    "y_pred = logreg.predict(X_test)\n",
    "print('Accuracy of logistic regression classifier on test set: {:.2f}'.format(logreg.score(X_test, y_test)))"
   ]
  },
  {
   "cell_type": "markdown",
   "id": "b97fdbd5",
   "metadata": {},
   "source": [
    "# Prediction"
   ]
  },
  {
   "cell_type": "code",
   "execution_count": 34,
   "id": "8b6fe002",
   "metadata": {},
   "outputs": [],
   "source": [
    "# An auxiliary function for converting a numeric result into a comprehensible result\n",
    "\n",
    "def matcher(i):\n",
    "    switcher={ \n",
    "        \n",
    "            0: \" The predicted sentiment for this review is Negative\",\n",
    "            \n",
    "            1: \"The predicted sentiment for this review is Neutral\",\n",
    "           \n",
    "            2: \"The predicted sentiment for this review is Positive\",\n",
    "            \n",
    "             }\n",
    "    return switcher.get(i,\"unspecified\")"
   ]
  },
  {
   "cell_type": "code",
   "execution_count": 35,
   "id": "43970229",
   "metadata": {},
   "outputs": [],
   "source": [
    "# check which columns are expected by the model, but not exist in the inference dataframe\n",
    "\n",
    "X = pd.DataFrame(X)\n",
    "\n",
    "global tfidf_vectorizer\n",
    "global logreg"
   ]
  },
  {
   "cell_type": "code",
   "execution_count": 49,
   "id": "b6b111a2",
   "metadata": {},
   "outputs": [],
   "source": [
    "def Predict_New_Review(new):\n",
    "    \n",
    "    #Cleaning\n",
    "    cleaned_review = review_cleaning(new)\n",
    "    \n",
    "    #remove stop words\n",
    "    non_stop = ' '.join([word for word in cleaned_review.split() if word not in (stop_words)])\n",
    "    \n",
    "    #remove digits\n",
    "    review = ''.join([i for i in non_stop if not i.isdigit()])\n",
    "    \n",
    "    #convert to list\n",
    "    review = [review]\n",
    "    \n",
    "    #convert to dataframe\n",
    "    review = pd.DataFrame(review)\n",
    "    \n",
    "    #Encoding\n",
    "    Xjoker = tfidf_vectorizer.transform([str(review)])\n",
    "    \n",
    "    #predict\n",
    "    pred = logreg.predict(Xjoker[0])\n",
    "    \n",
    "    #return result\n",
    "    return matcher(int(pred))"
   ]
  },
  {
   "cell_type": "markdown",
   "id": "0fcae997",
   "metadata": {},
   "source": [
    "# An Example on how model has predicted positive sentiment!"
   ]
  },
  {
   "cell_type": "code",
   "execution_count": null,
   "id": "a7ac05c9",
   "metadata": {},
   "outputs": [],
   "source": [
    "#Wanted my father to have his first tablet and this is a very good value. He can watch movies and play a few games. Easy enough for him to use.,Great Value,,,RegE"
   ]
  },
  {
   "cell_type": "code",
   "execution_count": 50,
   "id": "af643574",
   "metadata": {},
   "outputs": [
    {
     "name": "stdout",
     "output_type": "stream",
     "text": [
      "Please enter a new review to be predicted#Wanted my father to have his first tablet and this is a very good value. He can watch movies and play a few games. Easy enough for him to use.,Great Value,,,RegE\n"
     ]
    },
    {
     "data": {
      "text/plain": [
       "'The predicted sentiment for this review is Positive'"
      ]
     },
     "execution_count": 50,
     "metadata": {},
     "output_type": "execute_result"
    }
   ],
   "source": [
    "new_review = input (\"Please enter a new review to be predicted\")\n",
    "\n",
    "Predict_New_Review(new_review)"
   ]
  },
  {
   "cell_type": "markdown",
   "id": "2a20b300",
   "metadata": {},
   "source": [
    "# An Example on how model has predicted Neutral sentiment!"
   ]
  },
  {
   "cell_type": "code",
   "execution_count": null,
   "id": "a1420cd9",
   "metadata": {},
   "outputs": [],
   "source": [
    "#I've had my Fire HD 8 two weeks now and I love it. This tablet is a great value.We are Prime Members and that is where this tablet SHINES. I love being able to easily access all of the Prime content as well as movies you can download and watc"
   ]
  },
  {
   "cell_type": "code",
   "execution_count": 51,
   "id": "e0d5bc26",
   "metadata": {},
   "outputs": [
    {
     "name": "stdout",
     "output_type": "stream",
     "text": [
      "Please enter a new review to be predicted#I've had my Fire HD 8 two weeks now and I love it. This tablet is a great value.We are Prime Members and that is where this tablet SHINES. I love being able to easily access all of the Prime content as well as movies you can download and watc\n"
     ]
    },
    {
     "data": {
      "text/plain": [
       "'The predicted sentiment for this review is Neutral'"
      ]
     },
     "execution_count": 51,
     "metadata": {},
     "output_type": "execute_result"
    }
   ],
   "source": [
    "new_review = input (\"Please enter a new review to be predicted\")\n",
    "\n",
    "Predict_New_Review(new_review)"
   ]
  },
  {
   "cell_type": "markdown",
   "id": "bc1739c3",
   "metadata": {},
   "source": [
    "# An Example on how model has predicted Negative sentiment!"
   ]
  },
  {
   "cell_type": "code",
   "execution_count": null,
   "id": "ed93e261",
   "metadata": {},
   "outputs": [],
   "source": [
    "#Inexpensive tablet for him to use and learn on, step up from the NABI. He was thrilled with it, learn how to Skype on it already...\",Beginner tablet for our 9 year old son.,,,DaveZ"
   ]
  },
  {
   "cell_type": "code",
   "execution_count": 52,
   "id": "124f531f",
   "metadata": {},
   "outputs": [
    {
     "name": "stdout",
     "output_type": "stream",
     "text": [
      "Please enter a new review to be predicted#Inexpensive tablet for him to use and learn on, step up from the NABI. He was thrilled with it, learn how to Skype on it already...\",Beginner tablet for our 9 year old son.,,,DaveZ\n"
     ]
    },
    {
     "data": {
      "text/plain": [
       "' The predicted sentiment for this review is Negative'"
      ]
     },
     "execution_count": 52,
     "metadata": {},
     "output_type": "execute_result"
    }
   ],
   "source": [
    "new_review = input (\"Please enter a new review to be predicted\")\n",
    "Predict_New_Review(new_review)"
   ]
  },
  {
   "cell_type": "code",
   "execution_count": null,
   "id": "f25920f8",
   "metadata": {},
   "outputs": [],
   "source": [
    "Great work!"
   ]
  }
 ],
 "metadata": {
  "kernelspec": {
   "display_name": "Python 3 (ipykernel)",
   "language": "python",
   "name": "python3"
  },
  "language_info": {
   "codemirror_mode": {
    "name": "ipython",
    "version": 3
   },
   "file_extension": ".py",
   "mimetype": "text/x-python",
   "name": "python",
   "nbconvert_exporter": "python",
   "pygments_lexer": "ipython3",
   "version": "3.9.7"
  }
 },
 "nbformat": 4,
 "nbformat_minor": 5
}
